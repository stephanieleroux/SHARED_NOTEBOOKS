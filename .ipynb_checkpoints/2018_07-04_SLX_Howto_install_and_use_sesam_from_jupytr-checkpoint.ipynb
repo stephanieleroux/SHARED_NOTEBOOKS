{
 "cells": [
  {
   "cell_type": "markdown",
   "metadata": {},
   "source": [
    "# __How to install and use sesam on the jupyter notebook server__ \n",
    "### (@MEOM group)\n",
    "\n",
    "* _[Purpose]:_ \n",
    "\t- This is a note on how to install sesam on the jupyter notebook server (MEOM group) based on Mondher's explanation.\n",
    "* _[author]:_ \n",
    "\t- stephanie leroux\n",
    "* _[date]_: \n",
    "\t- jul 2018\n",
    "* _[Notes]_:\n",
    "    - As of jul. 2018, known people at MEOM using Sesam from notebooks on the jupyter server: Sammy M. (advanced user), Stephanie L. (just starting). And Ann-Sophie T. uses Sesam from notebooks on her local computer."
   ]
  },
  {
   "cell_type": "markdown",
   "metadata": {},
   "source": [
    "# __ - Install__"
   ]
  },
  {
   "cell_type": "markdown",
   "metadata": {},
   "source": [
    "### ssh to the jupyter notebook server via a terminal session:\n",
    "``` ssh your_ige_login@ige-meom-jupytr.u-ga.fr  ```"
   ]
  },
  {
   "cell_type": "markdown",
   "metadata": {},
   "source": [
    "### You can get the executable or library from here:\n",
    "\n",
    "* exe: ```/mnt/SSD/notebooks/chekki/bin/```\n",
    "\n",
    "* lib: ```/mnt/SSD/notebooks/chekki/lib```\n",
    "\n",
    "* copy them to your ```$HOME/bin``` and ```$HOME/lib```\n",
    "\n",
    "* for sesam to work you need to load the modules (add these lines in your .profile):\n",
    "    ```\n",
    "    module load intel\n",
    "    module load cdftools\n",
    "    module load netcdf/netcdf-4.4_intel15_hdf5\n",
    "    ```"
   ]
  },
  {
   "cell_type": "markdown",
   "metadata": {},
   "source": [
    "### If you need to recompile from the sources:\n",
    "* The sources are here:  ```/mnt/SSD/notebooks/chekki/SESAM5.0/src```\n",
    "* compile with: ``` ./genmake.ksh   linux_gfortran ```"
   ]
  },
  {
   "cell_type": "markdown",
   "metadata": {},
   "source": [
    "# __ - Call/use sesam from your notebook:__"
   ]
  },
  {
   "cell_type": "markdown",
   "metadata": {},
   "source": [
    "* From the notebook server: [https://ige-meom-jupyter.univ-grenoble-alpes.fr:8000](https://ige-meom-jupyter.univ-grenoble-alpes.fr:8000]\n",
    "\n",
    "* Open a jupyter notebook\n",
    "\n",
    "* You can call sesam in a cell with:"
   ]
  },
  {
   "cell_type": "code",
   "execution_count": 3,
   "metadata": {},
   "outputs": [
    {
     "name": "stdout",
     "output_type": "stream",
     "text": [
      " ******************************************\n",
      " *        Welcome in SESAM program        *\n",
      " *          For help use -help <>         *\n",
      " ******************************************\n",
      "  \n",
      "  -help <mode,ext,config,all>  ==> possible help switches\n",
      "  \n",
      "state        general optional switches :\n",
      "( ON)   -config <SESAM configuration>\n",
      "( ON)   -varmsk <mask.[bimg,dimg,cdf]>\n",
      "( ON)   -dtamsk <mask.[bdta,dta,cdta]>\n",
      "( ON)   -outinfo <listing file>\n",
      "( ON)   -typedtadiag <dta_type diag>\n",
      "( ON)   -fixjpx <block size>\n",
      "( ON)   -fixjpz <integer>\n",
      "( ON)   -fixjpu <integer>\n",
      "( ON)   -action <action_number>\n",
      "( ON)   -connect <file_cfg>\n",
      "  \n",
      "  listing of SESAM modules :\n",
      "  \n",
      "  analysis modes :\n",
      " 1  =>: -mode tgop :Operations on truncated Gaussian pdf\n",
      " 2  =>: -mode filt :Low-pass filter\n",
      " 3  =>: -mode groa :Global reduced order analysis\n",
      " 4  =>: -mode lroa :Local reduced order analysis\n",
      " 5  =>: -mode broa :Bubble reduced order analysis\n",
      " 6  =>: -mode greg :Global linear regression\n",
      " 7  =>: -mode lreg :Local linear regression\n",
      " 8  =>: -mode breg :Bubble linear regression\n",
      "  \n",
      "  diagnostic modes :\n",
      " 1  =>: -mode corr :Compute correlations from reduced order cov. matrix\n",
      " 2  =>: -mode adap :Adaptive parameter estimation\n",
      " 3  =>: -mode diff :Compute RMS difference between vector objects\n",
      " 4  =>: -mode geof :Global EOF decomposition\n",
      " 5  =>: -mode leof :Local EOF decomposition\n",
      " 6  =>: -mode beof :Bubble EOF decomposition\n",
      " 7  =>: -mode vari :Compute variances from reduced order cov. matrix\n",
      " 8  =>: -mode anam :Anamorphosis operations\n",
      " 9  =>: -mode scor :Probabilistic scores (CRPS,...)\n",
      "10  =>: -mode spct :Spectral transformation\n",
      "  \n",
      "  utility modes :\n",
      " 1  =>: -mode intf :Interface an object from a file format to another\n",
      " 2  =>: -mode obsv :Observation management\n",
      " 3  =>: -mode oerr :Observation error management\n",
      " 4  =>: -mode oper :Arithmetic operations\n",
      " 5  =>: -mode zone :Local data section management\n",
      " Program SESAM 4.3  year 2012\n",
      "  \n"
     ]
    },
    {
     "name": "stderr",
     "output_type": "stream",
     "text": [
      "STOP End of SESAM online help\n"
     ]
    }
   ],
   "source": [
    "%%bash\n",
    "/home/lerouste/bin/sesam"
   ]
  }
 ],
 "metadata": {
  "kernelspec": {
   "display_name": "Python (myenv_test)",
   "language": "python",
   "name": "py_steph_env"
  },
  "language_info": {
   "codemirror_mode": {
    "name": "ipython",
    "version": 3
   },
   "file_extension": ".py",
   "mimetype": "text/x-python",
   "name": "python",
   "nbconvert_exporter": "python",
   "pygments_lexer": "ipython3",
   "version": "3.5.5"
  }
 },
 "nbformat": 4,
 "nbformat_minor": 2
}
