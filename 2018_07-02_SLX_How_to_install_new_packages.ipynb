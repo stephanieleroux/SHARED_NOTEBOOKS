{
 "cells": [
  {
   "cell_type": "markdown",
   "metadata": {},
   "source": [
    "# How to install an external package on the jupyter notebook server (MEOM group)\n",
    "* _[Purpose]:_ \n",
    "\t- This tuto aims to illustrate how to install a new external* package on the jupyter notebook server. (*) external in the sense that it is not available via conda.\n",
    "\t- We’re taking here the package [xscale](https://github.com/serazing/xscale) developped by G. Sérazin as an example.\n",
    "\t- It is very much recommended (not to say necessary) to __create your own conda environment__ (if you don’t have one already): this is what  steps 1.1 and 1.2 do. \n",
    "* _[author]:_ \n",
    "\t- stephanie leroux\n",
    "* _[date]_: \n",
    "\t- jun. 2018\n",
    "\n",
    "## Step 0: Go to jupyter lab server:\n",
    " [https://ige-meom-jupyter.univ-grenoble-alpes.fr:8000/user/lerouste/lab](https://ige-meom-jupyter.univ-grenoble-alpes.fr:8000/user/lerouste/lab)\n",
    "\n",
    "##  Step 1. Open  a terminal window :\n",
    "\n",
    "* __Step 1.1:__ Create your environment:\n",
    "\n",
    "```\n",
    "conda create -n py36_steph_env python=3.6 ipykernel\n",
    "source activate py36_steph_env\n",
    "python -m ipykernel install --user --name py36_steph_env --display-name \"Python (py36_steph_env)\"\n",
    "```\n",
    "\n",
    "* __Step 1.2:__ Install  other required packages via conda:\n",
    "\n",
    "```\n",
    "conda install xarray\n",
    "conda install numba\n",
    "conda install matplotlib\n",
    "conda install cartopy\n",
    "conda install pycwt\n",
    "\n",
    "```\n",
    "\n",
    "* __Step 1.3:__ install the external package:\n",
    "\n",
    "```\n",
    "git clone https://github.com/serazing/xscale.git\n",
    "cd xscale\n",
    "python setup.py install\n",
    "```\n",
    "\n",
    "## Step 2:  In a jupyter notebook on the server:\n",
    "* __Step 2.1:__ Open a new notebook corresponding to your customed env (in this example:  py36_steph_env)\n",
    "* __Step 2.2:__ Test if the installed package is available:\n",
    "\n",
    "```\n",
    "# import package\n",
    "import xscale.spectral.fft as xfft\n",
    "```\n",
    "\n",
    "## Notes:\n",
    "* You might find that other dependencies need to be installed for your external package to work. In this case, proceed as in step 1.2 for those dependencies.\n",
    "* In the terminal, make sure that you have activated your environment with ```source activate your_env``` before installing any package with conda.\n",
    "* Reminders: \n",
    "\t- check which environment is active: ``` conda info --envs``` or ```conda env list```,\n",
    "\t- list the packages installed for the active environment: ```conda list -n your_env_name``` ,\n",
    "\t- to learn more about cond environments, [read here](https://conda.io/docs/user-guide/tasks/manage-environments.html)."
   ]
  },
  {
   "cell_type": "markdown",
   "metadata": {},
   "source": []
  },
  {
   "cell_type": "code",
   "execution_count": null,
   "metadata": {},
   "outputs": [],
   "source": []
  }
 ],
 "metadata": {
  "kernelspec": {
   "display_name": "Python 3",
   "language": "python",
   "name": "python3"
  },
  "language_info": {
   "codemirror_mode": {
    "name": "ipython",
    "version": 3
   },
   "file_extension": ".py",
   "mimetype": "text/x-python",
   "name": "python",
   "nbconvert_exporter": "python",
   "pygments_lexer": "ipython3",
   "version": "3.6.3"
  }
 },
 "nbformat": 4,
 "nbformat_minor": 2
}
