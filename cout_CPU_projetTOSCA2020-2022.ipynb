{
 "cells": [
  {
   "cell_type": "markdown",
   "metadata": {},
   "source": [
    "Mes notes sur l'estimation du cout des simulations proposées pour le projet TOSCA/OSTST à soumettre début octobre"
   ]
  },
  {
   "cell_type": "markdown",
   "metadata": {},
   "source": [
    "### Rappel config OCCIPUT ORCA025:"
   ]
  },
  {
   "cell_type": "code",
   "execution_count": 46,
   "metadata": {},
   "outputs": [],
   "source": [
    "# nb de points config ORCA05 sans agrif\n",
    "N_occi=1440*1021*75\n",
    "\n",
    "# cout CPU config ORCA025 occiput:\n",
    "c_occi=5100 # heures CPU / an simulé\n"
   ]
  },
  {
   "cell_type": "markdown",
   "metadata": {},
   "source": [
    "### Config ORCA05 sans agrif:"
   ]
  },
  {
   "cell_type": "code",
   "execution_count": 11,
   "metadata": {},
   "outputs": [],
   "source": [
    "# nb de points config ORCA05 sans agrif\n",
    "N0=720*510*75\n",
    "\n",
    "# cout CPU config ORCA05 sans agrif:\n",
    "c0=650 # heures CPU / an simulé\n",
    "\n",
    "# Note:  c0 = c_occi / (f*f*f) avec f=2"
   ]
  },
  {
   "cell_type": "markdown",
   "metadata": {},
   "source": [
    "### Config \"mère\" ORCA05 :"
   ]
  },
  {
   "cell_type": "code",
   "execution_count": 12,
   "metadata": {},
   "outputs": [],
   "source": [
    "# nb de points config mère (domaine à 0.5) sans compter le zoom\n",
    "Nm = (720*510*75)-(243*275*75)  "
   ]
  },
  {
   "cell_type": "code",
   "execution_count": 14,
   "metadata": {},
   "outputs": [
    {
     "data": {
      "text/plain": [
       "531.7095588235294"
      ]
     },
     "execution_count": 14,
     "metadata": {},
     "output_type": "execute_result"
    }
   ],
   "source": [
    "#cout config mere 05 (sans le zoom agrif): (en heures CPU par an)\n",
    "cm = (Nm*650)/N0\n",
    "cm"
   ]
  },
  {
   "cell_type": "code",
   "execution_count": 17,
   "metadata": {},
   "outputs": [
    {
     "data": {
      "text/plain": [
       "352.0"
      ]
     },
     "execution_count": 17,
     "metadata": {},
     "output_type": "execute_result"
    }
   ],
   "source": [
    "# nb de point du zoom (identique à un NATL025L75)\n",
    "NZ = 486 * 530 *75\n",
    "\n",
    "# cout\n",
    "cz = 352 \n",
    "cz"
   ]
  },
  {
   "cell_type": "markdown",
   "metadata": {},
   "source": [
    "### COUT TOTAL CONFIG ARGIF (mère+zoom)"
   ]
  },
  {
   "cell_type": "code",
   "execution_count": 18,
   "metadata": {},
   "outputs": [
    {
     "data": {
      "text/plain": [
       "883.7095588235294"
      ]
     },
     "execution_count": 18,
     "metadata": {},
     "output_type": "execute_result"
    }
   ],
   "source": [
    "# cout total de la config ORCA05 avec AGRIF: (heures CPU / an simulé)\n",
    "CT = cz + cm\n",
    "CT"
   ]
  },
  {
   "cell_type": "markdown",
   "metadata": {},
   "source": [
    "__soit environ 1000 heures CPU / an simulé__"
   ]
  },
  {
   "cell_type": "code",
   "execution_count": null,
   "metadata": {},
   "outputs": [],
   "source": []
  },
  {
   "cell_type": "markdown",
   "metadata": {},
   "source": [
    "## Plan d'experience proposé:\n",
    "\n",
    "    - 20 ans (spinup)\n",
    "    - 40 ans de climato avec rappel en sel\n",
    "    - 3 ensembles de 10 membres x40 ans\n",
    "\n",
    " **1260 ans**"
   ]
  },
  {
   "cell_type": "markdown",
   "metadata": {},
   "source": [
    "## Cout total config AGRIF pour 1220 ans:"
   ]
  },
  {
   "cell_type": "code",
   "execution_count": 52,
   "metadata": {},
   "outputs": [
    {
     "data": {
      "text/plain": [
       "1260000"
      ]
     },
     "execution_count": 52,
     "metadata": {},
     "output_type": "execute_result"
    }
   ],
   "source": [
    "1000*1260"
   ]
  },
  {
   "cell_type": "markdown",
   "metadata": {},
   "source": [
    "--> 1.26 millions d'heures CPU"
   ]
  },
  {
   "cell_type": "code",
   "execution_count": null,
   "metadata": {},
   "outputs": [],
   "source": []
  }
 ],
 "metadata": {
  "kernelspec": {
   "display_name": "Python 3",
   "language": "python",
   "name": "python3"
  },
  "language_info": {
   "codemirror_mode": {
    "name": "ipython",
    "version": 3
   },
   "file_extension": ".py",
   "mimetype": "text/x-python",
   "name": "python",
   "nbconvert_exporter": "python",
   "pygments_lexer": "ipython3",
   "version": "3.5.5"
  }
 },
 "nbformat": 4,
 "nbformat_minor": 2
}
