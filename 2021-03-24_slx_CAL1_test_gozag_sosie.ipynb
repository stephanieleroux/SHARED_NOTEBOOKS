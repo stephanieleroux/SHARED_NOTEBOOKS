{
 "cells": [
  {
   "cell_type": "markdown",
   "metadata": {},
   "source": [
    "# Testing Gonzag vs Sosie\n",
    "* I reproduce here the same along track interpolation with sosie-original and with gonzag\n",
    "* It is a pretty heavy example: SARAL 6-month along-track data and a eNATL60 extraction over the WESTMED. There is ~ 8 millions obs in the alongtrack file.\n",
    "* I'm running these tests on CAL1 (but i have reproduced the python test on JeanZay@idris too)\n",
    "* All files are here: ```/mnt/meom/workdir/lerouste/SHARED/TEST_GONZAG_SOSIE_2021```\n",
    "* I test:\n",
    "    - sosie original run with a bash script\n",
    "    - gonzag in a jupyter notebook\n",
    "    - gonzag in a python script "
   ]
  },
  {
   "cell_type": "markdown",
   "metadata": {},
   "source": [
    "### 1. Test with Sosie original:\n",
    "* Script with sosie original on CAL1:"
   ]
  },
  {
   "cell_type": "markdown",
   "metadata": {},
   "source": [
    "```\n",
    "#!/bin/bash\n",
    "\n",
    "module load intel/intel-15 netcdf/netcdf-4.4_intel15_hdf5\n",
    "ulimit -s unlimited\n",
    "\n",
    "DIR_IN=\"/mnt/meom/workdir/lerouste/SHARED/TEST_GONZAG_SOSIE_2021\"\n",
    "\n",
    "DIR_INm=${DIR_IN}\n",
    "\n",
    "EXE=\"/home/brodeau/DEV/sosie/bin/interp_to_ground_track.x\"\n",
    "\n",
    "# run test\n",
    "${EXE} -i ${DIR_INm}/eNATL60MEDWEST-BLB002_y2016m07-12.1h_sossheig_corrnc.nc4 -v sossheig \\\n",
    "       -p ${DIR_IN}/dt_global_alg_sla_vxxc_2016-07-12_trc.nc -n sla_unfiltered -S\n",
    "~                              \n",
    "```"
   ]
  },
  {
   "cell_type": "markdown",
   "metadata": {},
   "source": [
    "* Run test in terminal (CAL1): __--> 47 seconds__\n",
    "\n",
    "(...)\n",
    "\n",
    "```\n",
    " Written!\n",
    "  => check:\n",
    " result__eNATL60MEDWEST-BLB002_y2016m07-12.1h_sossheig_corrnc__to__dt_global_alg\n",
    " _sla_vxxc_2016-07-12_trc.nc\n",
    " \n",
    "\n",
    "real\t0m47,332s\n",
    "user\t0m43,732s\n",
    "sys\t0m1,836s\n",
    "```"
   ]
  },
  {
   "cell_type": "markdown",
   "metadata": {},
   "source": [
    "---\n",
    "---\n",
    "---\n",
    "\n",
    "\n",
    "### 2. Test with Gonzag:\n"
   ]
  },
  {
   "cell_type": "markdown",
   "metadata": {},
   "source": [
    "* Modules"
   ]
  },
  {
   "cell_type": "code",
   "execution_count": 22,
   "metadata": {},
   "outputs": [],
   "source": [
    "## standart libraries\n",
    "import os,sys\n",
    "from os import path\n",
    "import numpy as np\n",
    "\n",
    "# xarray\n",
    "\n",
    "%matplotlib inline "
   ]
  },
  {
   "cell_type": "markdown",
   "metadata": {},
   "source": [
    "* Load gonzag"
   ]
  },
  {
   "cell_type": "code",
   "execution_count": 23,
   "metadata": {},
   "outputs": [],
   "source": [
    "sys.path.insert(0,'/mnt/meom/workdir/lerouste/TOOLS/gonzag')\n",
    "import gonzag as gz\n",
    "from gonzag.config import ldebug\n"
   ]
  },
  {
   "cell_type": "markdown",
   "metadata": {},
   "source": [
    "* My (heavy) example: SARAL 6-month along-track data and a eNATL60 extraction over the WESTMED. There is ~ 8 millions obs in the alongtrack file."
   ]
  },
  {
   "cell_type": "code",
   "execution_count": 32,
   "metadata": {},
   "outputs": [],
   "source": [
    "diri=\"/mnt/meom/workdir/lerouste/SHARED/TEST_GONZAG_SOSIE_2021/\"\n",
    "dirim=diri\n",
    "diro=diri\n",
    "#dirimask=\"/mnt/meom/workdir/lerouste/SAT/SARAL/\"\n",
    "\n",
    "file_sat=diri+\"dt_global_alg_sla_vxxc_2016-07-12_trc.nc\"\n",
    "name_ssh_sat=\"sla_unfiltered\"\n",
    "\n",
    "file_mod=dirim+\"eNATL60MEDWEST-BLB002_y2016m07-12.1h_sossheig_corrnc.nc4\"\n",
    "name_ssh_mod=\"sossheig\"\n",
    "\n",
    "file_lsm=dirimask+\"mask_eNATL60MEDWEST_3.6.nc\"\n",
    "name_lsm=\"tmask\"\n",
    "\n",
    "kEWper=-1"
   ]
  },
  {
   "cell_type": "markdown",
   "metadata": {},
   "source": [
    "####  Run test 1: --> killed before end because:\n",
    "* too many prints of : \n",
    "\n",
    "```WARNING: did not find a nearest point for target point  0.973588 250.860487  !\n",
    "          => last tested distance criterions = 2.06030909318  km```\n",
    "\n",
    "* also: takes a lot of time (several minutes) to just start printing\n",
    "* same behaviour if run from a python script directly in the terminal : ``` time python do_slz_2021.py```"
   ]
  },
  {
   "cell_type": "code",
   "execution_count": 33,
   "metadata": {},
   "outputs": [
    {
     "name": "stdout",
     "output_type": "stream",
     "text": [
      "\n",
      " Satellite: /mnt/meom/workdir/lerouste/SHARED/TEST_GONZAG_SOSIE_2021/dt_global_alg_sla_vxxc_2016-07-12_trc.nc\n",
      " Model: /mnt/meom/workdir/lerouste/SHARED/TEST_GONZAG_SOSIE_2021/eNATL60MEDWEST-BLB002_y2016m07-12.1h_sossheig_corrnc.nc4\n",
      "\n",
      " *** Time overlap for Model and Track data: 1467637152 1483227000 \n",
      "\n",
      " *** Model latitude var is: \"nav_lat\" ! with 2 dimensions! (803, 883) \n",
      "\n",
      " *** Model longitude var is: \"nav_lon\" ! with 2 dimensions! (803, 883) \n",
      "\n",
      "\n",
      " *** what we use to define model land-sea mask:\n",
      "    => \"tmask\" in \"/mnt/meom/workdir/lerouste/SAT/SARAL/mask_eNATL60MEDWEST_3.6.nc\"\n",
      "\n",
      " *** Based on the longitude array of the model, the model resolutions ~=  0.0101269  degrees \n",
      "\n",
      "   ==> \"found\" distance criterion when searching for nearest point is  0.843902604568  km\n",
      "\n",
      "     => lat_min, lat_max =  0.0 45.1355\n",
      "     => lon_min, lon_max =  0.0 360.0 \n",
      "\n",
      " *** Seems like the model domain is global (in terms of longitude span)...\n",
      " *** Will use zoom boxes of width of 445 points for 1st attempts of nearest-point location...\n",
      "\n",
      " *** Satellite latitude var is: \"latitude\", of size (8016014,) \n",
      "\n",
      " *** Satellite longitude var is: \"longitude\", of size (8016014,) \n",
      "\n",
      " *** Track size before removing points outside of model domain: 8016014\n",
      "   => Track size AFTER removing points outside of model domain: 2412463\n",
      "\n",
      " *** Computing angle distortion of the model grid...\n",
      "\n",
      " *** Finding nearest points on source (model) grid... (rd_found_km, np_box_r = 0.843902604568 222 )\n",
      " WARNING: did not find a nearest point for target point  0.051611 251.062938  !\n",
      "          => last tested distance criterions = 2.06030909318  km\n",
      "\n",
      " WARNING: did not find a nearest point for target point  0.113099 251.049437  !\n",
      "          => last tested distance criterions = 2.06030909318  km\n",
      "\n",
      " WARNING: did not find a nearest point for target point  0.174587 251.035936  !\n",
      "          => last tested distance criterions = 2.06030909318  km\n",
      "\n",
      " WARNING: did not find a nearest point for target point  0.236075 251.022435  !\n",
      "          => last tested distance criterions = 2.06030909318  km\n",
      "\n",
      " WARNING: did not find a nearest point for target point  0.297563 251.008934  !\n",
      "          => last tested distance criterions = 2.06030909318  km\n",
      "\n",
      " WARNING: did not find a nearest point for target point  0.359012 250.995442  !\n",
      "          => last tested distance criterions = 2.06030909318  km\n",
      "\n",
      " WARNING: did not find a nearest point for target point  0.420469 250.981947  !\n",
      "          => last tested distance criterions = 2.06030909318  km\n",
      "\n",
      " WARNING: did not find a nearest point for target point  0.481926 250.968453  !\n",
      "          => last tested distance criterions = 2.06030909318  km\n",
      "\n",
      " WARNING: did not find a nearest point for target point  0.543383 250.954958  !\n",
      "          => last tested distance criterions = 2.06030909318  km\n",
      "\n",
      " WARNING: did not find a nearest point for target point  0.604841 250.941463  !\n",
      "          => last tested distance criterions = 2.06030909318  km\n",
      "\n",
      " WARNING: did not find a nearest point for target point  0.666298 250.927967  !\n",
      "          => last tested distance criterions = 2.06030909318  km\n",
      "\n",
      " WARNING: did not find a nearest point for target point  0.727756 250.914472  !\n",
      "          => last tested distance criterions = 2.06030909318  km\n",
      "\n",
      " WARNING: did not find a nearest point for target point  0.789214 250.900976  !\n",
      "          => last tested distance criterions = 2.06030909318  km\n",
      "\n",
      " WARNING: did not find a nearest point for target point  0.850672 250.88748  !\n",
      "          => last tested distance criterions = 2.06030909318  km\n",
      "\n",
      " WARNING: did not find a nearest point for target point  0.91213 250.873984  !\n",
      "          => last tested distance criterions = 2.06030909318  km\n",
      "\n",
      " WARNING: did not find a nearest point for target point  0.973588 250.860487  !\n",
      "          => last tested distance criterions = 2.06030909318  km\n",
      "\n",
      " WARNING: did not find a nearest point for target point  1.035046 250.84699  !\n",
      "          => last tested distance criterions = 2.06030909318  km\n",
      "\n",
      " WARNING: did not find a nearest point for target point  1.096504 250.833493  !\n",
      "          => last tested distance criterions = 2.06030909318  km\n",
      "\n",
      " WARNING: did not find a nearest point for target point  1.157963 250.819995  !\n",
      "          => last tested distance criterions = 2.06030909318  km\n",
      "\n",
      " WARNING: did not find a nearest point for target point  1.219421 250.806497  !\n",
      "          => last tested distance criterions = 2.06030909318  km\n",
      "\n",
      " WARNING: did not find a nearest point for target point  1.28088 250.792998  !\n",
      "          => last tested distance criterions = 2.06030909318  km\n",
      "\n",
      " WARNING: did not find a nearest point for target point  1.342339 250.779499  !\n",
      "          => last tested distance criterions = 2.06030909318  km\n",
      "\n",
      " WARNING: did not find a nearest point for target point  1.403797 250.765999  !\n",
      "          => last tested distance criterions = 2.06030909318  km\n",
      "\n",
      " WARNING: did not find a nearest point for target point  1.465256 250.752499  !\n",
      "          => last tested distance criterions = 2.06030909318  km\n",
      "\n",
      " WARNING: did not find a nearest point for target point  1.526715 250.738998  !\n",
      "          => last tested distance criterions = 2.06030909318  km\n",
      "\n",
      " WARNING: did not find a nearest point for target point  1.588174 250.725497  !\n",
      "          => last tested distance criterions = 2.06030909318  km\n",
      "\n",
      " WARNING: did not find a nearest point for target point  1.649633 250.711995  !\n",
      "          => last tested distance criterions = 2.06030909318  km\n",
      "\n",
      " WARNING: did not find a nearest point for target point  1.711092 250.698493  !\n",
      "          => last tested distance criterions = 2.06030909318  km\n",
      "\n",
      " WARNING: did not find a nearest point for target point  1.772552 250.68499  !\n",
      "          => last tested distance criterions = 2.06030909318  km\n",
      "\n",
      " WARNING: did not find a nearest point for target point  1.834011 250.671487  !\n",
      "          => last tested distance criterions = 2.06030909318  km\n",
      "\n",
      " WARNING: did not find a nearest point for target point  1.89547 250.657982  !\n",
      "          => last tested distance criterions = 2.06030909318  km\n",
      "\n",
      " WARNING: did not find a nearest point for target point  1.956929 250.644478  !\n",
      "          => last tested distance criterions = 2.06030909318  km\n",
      "\n",
      " WARNING: did not find a nearest point for target point  2.018389 250.630972  !\n",
      "          => last tested distance criterions = 2.06030909318  km\n",
      "\n",
      " WARNING: did not find a nearest point for target point  2.079848 250.617466  !\n",
      "          => last tested distance criterions = 2.06030909318  km\n",
      "\n",
      " WARNING: did not find a nearest point for target point  2.141308 250.603959  !\n",
      "          => last tested distance criterions = 2.06030909318  km\n",
      "\n",
      " WARNING: did not find a nearest point for target point  2.202767 250.590451  !\n",
      "          => last tested distance criterions = 2.06030909318  km\n",
      "\n",
      " WARNING: did not find a nearest point for target point  2.264227 250.576943  !\n",
      "          => last tested distance criterions = 2.06030909318  km\n",
      "\n"
     ]
    },
    {
     "ename": "KeyboardInterrupt",
     "evalue": "",
     "output_type": "error",
     "traceback": [
      "\u001b[0;31m---------------------------------------------------------------------------\u001b[0m",
      "\u001b[0;31mKeyboardInterrupt\u001b[0m                         Traceback (most recent call last)",
      "\u001b[0;32m<timed exec>\u001b[0m in \u001b[0;36m<module>\u001b[0;34m()\u001b[0m\n",
      "\u001b[0;32m/mnt/meom/workdir/lerouste/TOOLS/gonzag/gonzag/mod2sat.py\u001b[0m in \u001b[0;36mModel2SatTrack\u001b[0;34m(file_sat, name_ssh_sat, file_mod, name_ssh_mod, file_lsm_mod, name_lsm_mod, ew_prd_mod, file_out)\u001b[0m\n\u001b[1;32m    134\u001b[0m \u001b[0;34m\u001b[0m\u001b[0m\n\u001b[1;32m    135\u001b[0m     BT = BilinTrack( vlat_s[:jt_stop], vlon_s[:jt_stop], xlat_m, xlon_m, src_grid_local_angle=xangle_m, \\\n\u001b[0;32m--> 136\u001b[0;31m                         k_ew_per=ew_prd_mod, rd_found_km=d_found_km, np_box_r=np_box_radius, freq_talk=if_talk )\n\u001b[0m\u001b[1;32m    137\u001b[0m \u001b[0;34m\u001b[0m\u001b[0m\n\u001b[1;32m    138\u001b[0m     \u001b[0mprint\u001b[0m\u001b[0;34m(\u001b[0m\u001b[0;34m'\\n *** Execution time to build the mapping: '\u001b[0m\u001b[0;34m,\u001b[0m \u001b[0mtime\u001b[0m\u001b[0;34m.\u001b[0m\u001b[0mtime\u001b[0m\u001b[0;34m(\u001b[0m\u001b[0;34m)\u001b[0m \u001b[0;34m-\u001b[0m \u001b[0mstartTime\u001b[0m\u001b[0;34m,\u001b[0m \u001b[0;34m'\\n'\u001b[0m\u001b[0;34m)\u001b[0m\u001b[0;34m\u001b[0m\u001b[0m\n",
      "\u001b[0;32m/mnt/meom/workdir/lerouste/TOOLS/gonzag/gonzag/bilin_mapping.py\u001b[0m in \u001b[0;36m__init__\u001b[0;34m(self, Yt, Xt, Ys, Xs, src_grid_local_angle, k_ew_per, rd_found_km, np_box_r, freq_talk)\u001b[0m\n\u001b[1;32m    474\u001b[0m \u001b[0;34m\u001b[0m\u001b[0m\n\u001b[1;32m    475\u001b[0m         \u001b[0mprint\u001b[0m\u001b[0;34m(\u001b[0m\u001b[0;34m'\\n *** Finding nearest points on source (model) grid... (rd_found_km, np_box_r ='\u001b[0m\u001b[0;34m,\u001b[0m\u001b[0mrd_found_km\u001b[0m\u001b[0;34m,\u001b[0m \u001b[0mnp_box_r\u001b[0m\u001b[0;34m,\u001b[0m\u001b[0;34m')'\u001b[0m\u001b[0;34m)\u001b[0m\u001b[0;34m\u001b[0m\u001b[0m\n\u001b[0;32m--> 476\u001b[0;31m         \u001b[0mself\u001b[0m\u001b[0;34m.\u001b[0m\u001b[0mNP\u001b[0m \u001b[0;34m=\u001b[0m \u001b[0mself\u001b[0m\u001b[0;34m.\u001b[0m\u001b[0mnrpt\u001b[0m\u001b[0;34m(\u001b[0m \u001b[0;34m)\u001b[0m\u001b[0;34m\u001b[0m\u001b[0m\n\u001b[0m\u001b[1;32m    477\u001b[0m         \u001b[0mprint\u001b[0m\u001b[0;34m(\u001b[0m\u001b[0;34m'     ***    Done! *** \\n'\u001b[0m\u001b[0;34m)\u001b[0m\u001b[0;34m\u001b[0m\u001b[0m\n\u001b[1;32m    478\u001b[0m \u001b[0;34m\u001b[0m\u001b[0m\n",
      "\u001b[0;32m/mnt/meom/workdir/lerouste/TOOLS/gonzag/gonzag/bilin_mapping.py\u001b[0m in \u001b[0;36mnrpt\u001b[0;34m(self)\u001b[0m\n\u001b[1;32m    498\u001b[0m \u001b[0;34m\u001b[0m\u001b[0m\n\u001b[1;32m    499\u001b[0m             [jj,ji] = NearestPoint( (self.Yt[jt],self.Xt[jt]), self.Ys, self.Xs, \\\n\u001b[0;32m--> 500\u001b[0;31m                                     rd_found_km=self.rfound, j_prv=jj, i_prv=ji, np_box_r=self.nprad )\n\u001b[0m\u001b[1;32m    501\u001b[0m \u001b[0;34m\u001b[0m\u001b[0m\n\u001b[1;32m    502\u001b[0m             \u001b[0;31m# Exclude points at first and last column if no E-W periodicity:\u001b[0m\u001b[0;34m\u001b[0m\u001b[0;34m\u001b[0m\u001b[0m\n",
      "\u001b[0;32m/mnt/meom/workdir/lerouste/TOOLS/gonzag/gonzag/bilin_mapping.py\u001b[0m in \u001b[0;36mNearestPoint\u001b[0;34m(pcoor_trg, Ys, Xs, rd_found_km, j_prv, i_prv, np_box_r)\u001b[0m\n\u001b[1;32m    159\u001b[0m         \u001b[0migo\u001b[0m \u001b[0;34m=\u001b[0m \u001b[0migo\u001b[0m \u001b[0;34m+\u001b[0m \u001b[0;36m1\u001b[0m\u001b[0;34m\u001b[0m\u001b[0m\n\u001b[1;32m    160\u001b[0m         \u001b[0;32mif\u001b[0m \u001b[0migo\u001b[0m\u001b[0;34m>\u001b[0m\u001b[0;36m1\u001b[0m\u001b[0;34m:\u001b[0m \u001b[0;34m(\u001b[0m\u001b[0mj1\u001b[0m\u001b[0;34m,\u001b[0m\u001b[0mi1\u001b[0m \u001b[0;34m,\u001b[0m \u001b[0mj2\u001b[0m\u001b[0;34m,\u001b[0m\u001b[0mi2\u001b[0m\u001b[0;34m)\u001b[0m \u001b[0;34m=\u001b[0m \u001b[0;34m(\u001b[0m\u001b[0;36m0\u001b[0m\u001b[0;34m,\u001b[0m\u001b[0;36m0\u001b[0m \u001b[0;34m,\u001b[0m \u001b[0mNy\u001b[0m\u001b[0;34m,\u001b[0m\u001b[0mNx\u001b[0m\u001b[0;34m)\u001b[0m \u001b[0;34m;\u001b[0m \u001b[0;31m# Falling back on whole domain for second pass...\u001b[0m\u001b[0;34m\u001b[0m\u001b[0m\n\u001b[0;32m--> 161\u001b[0;31m         \u001b[0mxd\u001b[0m \u001b[0;34m=\u001b[0m \u001b[0mHaversine\u001b[0m\u001b[0;34m(\u001b[0m \u001b[0myT\u001b[0m\u001b[0;34m,\u001b[0m \u001b[0mxT\u001b[0m\u001b[0;34m,\u001b[0m  \u001b[0mYs\u001b[0m\u001b[0;34m[\u001b[0m\u001b[0mj1\u001b[0m\u001b[0;34m:\u001b[0m\u001b[0mj2\u001b[0m\u001b[0;34m,\u001b[0m\u001b[0mi1\u001b[0m\u001b[0;34m:\u001b[0m\u001b[0mi2\u001b[0m\u001b[0;34m]\u001b[0m\u001b[0;34m,\u001b[0m \u001b[0mXs\u001b[0m\u001b[0;34m[\u001b[0m\u001b[0mj1\u001b[0m\u001b[0;34m:\u001b[0m\u001b[0mj2\u001b[0m\u001b[0;34m,\u001b[0m\u001b[0mi1\u001b[0m\u001b[0;34m:\u001b[0m\u001b[0mi2\u001b[0m\u001b[0;34m]\u001b[0m \u001b[0;34m)\u001b[0m\u001b[0;34m\u001b[0m\u001b[0m\n\u001b[0m\u001b[1;32m    162\u001b[0m         \u001b[0mjy\u001b[0m\u001b[0;34m,\u001b[0m \u001b[0mjx\u001b[0m \u001b[0;34m=\u001b[0m \u001b[0mfind_j_i_min\u001b[0m\u001b[0;34m(\u001b[0m \u001b[0mxd\u001b[0m \u001b[0;34m)\u001b[0m\u001b[0;34m\u001b[0m\u001b[0m\n\u001b[1;32m    163\u001b[0m         \u001b[0mlfound\u001b[0m \u001b[0;34m=\u001b[0m \u001b[0;34m(\u001b[0m \u001b[0mxd\u001b[0m\u001b[0;34m[\u001b[0m\u001b[0mjy\u001b[0m\u001b[0;34m,\u001b[0m\u001b[0mjx\u001b[0m\u001b[0;34m]\u001b[0m \u001b[0;34m<\u001b[0m \u001b[0mrfnd\u001b[0m \u001b[0;34m)\u001b[0m\u001b[0;34m\u001b[0m\u001b[0m\n",
      "\u001b[0;32m/mnt/meom/workdir/lerouste/TOOLS/gonzag/gonzag/utils.py\u001b[0m in \u001b[0;36mHaversine\u001b[0;34m(plat, plon, xlat, xlon)\u001b[0m\n\u001b[1;32m    264\u001b[0m     \u001b[0mR\u001b[0m \u001b[0;34m=\u001b[0m \u001b[0;36m6360.\u001b[0m\u001b[0;34m\u001b[0m\u001b[0m\n\u001b[1;32m    265\u001b[0m     \u001b[0;31m#\u001b[0m\u001b[0;34m\u001b[0m\u001b[0;34m\u001b[0m\u001b[0m\n\u001b[0;32m--> 266\u001b[0;31m     \u001b[0ma1\u001b[0m \u001b[0;34m=\u001b[0m \u001b[0mnmp\u001b[0m\u001b[0;34m.\u001b[0m\u001b[0msin\u001b[0m\u001b[0;34m(\u001b[0m \u001b[0;36m0.5\u001b[0m \u001b[0;34m*\u001b[0m \u001b[0;34m(\u001b[0m\u001b[0;34m(\u001b[0m\u001b[0mxlat\u001b[0m \u001b[0;34m-\u001b[0m \u001b[0mplat\u001b[0m\u001b[0;34m)\u001b[0m\u001b[0;34m*\u001b[0m\u001b[0mto_rad\u001b[0m\u001b[0;34m)\u001b[0m \u001b[0;34m)\u001b[0m\u001b[0;34m\u001b[0m\u001b[0m\n\u001b[0m\u001b[1;32m    267\u001b[0m     \u001b[0ma2\u001b[0m \u001b[0;34m=\u001b[0m \u001b[0mnmp\u001b[0m\u001b[0;34m.\u001b[0m\u001b[0msin\u001b[0m\u001b[0;34m(\u001b[0m \u001b[0;36m0.5\u001b[0m \u001b[0;34m*\u001b[0m \u001b[0;34m(\u001b[0m\u001b[0;34m(\u001b[0m\u001b[0mxlon\u001b[0m \u001b[0;34m-\u001b[0m \u001b[0mplon\u001b[0m\u001b[0;34m)\u001b[0m\u001b[0;34m*\u001b[0m\u001b[0mto_rad\u001b[0m\u001b[0;34m)\u001b[0m \u001b[0;34m)\u001b[0m\u001b[0;34m\u001b[0m\u001b[0m\n\u001b[1;32m    268\u001b[0m     \u001b[0ma3\u001b[0m \u001b[0;34m=\u001b[0m \u001b[0mnmp\u001b[0m\u001b[0;34m.\u001b[0m\u001b[0mcos\u001b[0m\u001b[0;34m(\u001b[0m \u001b[0mxlat\u001b[0m\u001b[0;34m*\u001b[0m\u001b[0mto_rad\u001b[0m \u001b[0;34m)\u001b[0m \u001b[0;34m*\u001b[0m \u001b[0mcos\u001b[0m\u001b[0;34m(\u001b[0m\u001b[0mplat\u001b[0m\u001b[0;34m*\u001b[0m\u001b[0mto_rad\u001b[0m\u001b[0;34m)\u001b[0m\u001b[0;34m\u001b[0m\u001b[0m\n",
      "\u001b[0;31mKeyboardInterrupt\u001b[0m: "
     ]
    }
   ],
   "source": [
    "%time ii = gz.Model2SatTrack( file_sat, name_ssh_sat, file_mod, name_ssh_mod, file_lsm, name_lsm, \\\n",
    "                            ew_prd_mod=kEWper, file_out=diro+'slxtestresult.nc' )"
   ]
  },
  {
   "cell_type": "code",
   "execution_count": null,
   "metadata": {},
   "outputs": [],
   "source": []
  }
 ],
 "metadata": {
  "kernelspec": {
   "display_name": "Python 3",
   "language": "python",
   "name": "python3"
  },
  "language_info": {
   "codemirror_mode": {
    "name": "ipython",
    "version": 3
   },
   "file_extension": ".py",
   "mimetype": "text/x-python",
   "name": "python",
   "nbconvert_exporter": "python",
   "pygments_lexer": "ipython3",
   "version": "3.6.3"
  }
 },
 "nbformat": 4,
 "nbformat_minor": 2
}
